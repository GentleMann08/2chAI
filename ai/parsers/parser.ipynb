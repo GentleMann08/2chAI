{
 "cells": [
  {
   "cell_type": "code",
   "execution_count": null,
   "metadata": {},
   "outputs": [],
   "source": [
    "# Блок 1: Импортируем библиотеки\n",
    "import aiohttp\n",
    "import asyncio\n",
    "import csv\n",
    "import os\n",
    "from aiohttp import ClientTimeout"
   ]
  },
  {
   "cell_type": "code",
   "execution_count": null,
   "metadata": {},
   "outputs": [],
   "source": [
    "# Блок 2: Функция для получения тредов\n",
    "async def fetch_threads(session, board, max_threads_per_board):\n",
    "    url = f\"https://2ch.hk/{board}/catalog.json\"\n",
    "    try:\n",
    "        async with session.get(url, ssl=False) as response:\n",
    "            if response.status == 200:\n",
    "                data = await response.json()\n",
    "                return data.get(\"threads\", [])[:max_threads_per_board]\n",
    "    except Exception as e:\n",
    "        print(f\"Ошибка при запросе к {url}: {e}\")\n",
    "    return []"
   ]
  },
  {
   "cell_type": "code",
   "execution_count": null,
   "metadata": {},
   "outputs": [],
   "source": [
    "# Блок 3: Функция для получения постов\n",
    "async def fetch_posts(session, board, thread_num):\n",
    "    url = f\"https://2ch.hk/{board}/res/{thread_num}.json\"\n",
    "    try:\n",
    "        async with session.get(url, ssl=False) as response:\n",
    "            if response.status == 200:\n",
    "                data = await response.json()\n",
    "                return data.get(\"threads\", [])[0].get(\"posts\", [])\n",
    "    except Exception as e:\n",
    "        print(f\"Ошибка при запросе к {url}: {e}\")\n",
    "    return []"
   ]
  },
  {
   "cell_type": "code",
   "execution_count": null,
   "metadata": {},
   "outputs": [],
   "source": [
    "# Блок 4: Функция для сохранения данных\n",
    "def save_to_csv(board, posts, file_prefix):\n",
    "    os.makedirs(\"data\", exist_ok=True)\n",
    "\n",
    "    file_name = f\"data/{file_prefix}_{board}.csv\"  \n",
    "    file_exists = os.path.isfile(file_name)\n",
    "\n",
    "    with open(file_name, mode=\"a\", newline=\"\", encoding=\"utf-8\") as file:\n",
    "        writer = csv.writer(file)\n",
    "        if not file_exists:\n",
    "            writer.writerow([\"thread_num\", \"post_num\", \"name\", \"comment\", \"timestamp\", \"views\"])\n",
    "\n",
    "        for post in posts:\n",
    "            writer.writerow([\n",
    "                post.get(\"thread_num\", \"\"), \n",
    "                post.get(\"num\", \"\"), \n",
    "                post.get(\"name\", \"\"), \n",
    "                post.get(\"comment\", \"\"), \n",
    "                post.get(\"timestamp\", \"\"), \n",
    "                post.get(\"views\", \"\")\n",
    "            ])"
   ]
  },
  {
   "cell_type": "code",
   "execution_count": null,
   "metadata": {},
   "outputs": [],
   "source": [
    "# Блок 5: Основная функция для сбора данных\n",
    "async def collect_data(boards, file_prefix, max_threads_per_board=10000):\n",
    "    timeout = ClientTimeout(total=30, connect=10, sock_read=10)\n",
    "    async with aiohttp.ClientSession(timeout=timeout) as session:\n",
    "        for board in boards:\n",
    "            print(f\"Сбор данных с раздела /{board}/...\")\n",
    "            threads = await fetch_threads(session, board, max_threads_per_board)\n",
    "            if not threads:\n",
    "                continue\n",
    "\n",
    "            posts = []\n",
    "            for thread in threads:\n",
    "                thread_num = thread.get(\"no\") or thread.get(\"num\")\n",
    "                if not thread_num:\n",
    "                    continue\n",
    "\n",
    "                thread_posts = await fetch_posts(session, board, thread_num)\n",
    "                if thread_posts:\n",
    "                    for post in thread_posts:\n",
    "                        post[\"thread_num\"] = thread_num\n",
    "                        posts.append(post)\n",
    "\n",
    "                if len(posts) >= 100:\n",
    "                    save_to_csv(board, posts, file_prefix)\n",
    "                    posts.clear()\n",
    "\n",
    "            if posts:\n",
    "                save_to_csv(board, posts, file_prefix)"
   ]
  },
  {
   "cell_type": "code",
   "execution_count": null,
   "metadata": {},
   "outputs": [],
   "source": [
    "# Блок 6: Запуск программы\n",
    "def run_data_collection():\n",
    "    boards = [\"b\", \"po\", \"soc\", \"pr\"]\n",
    "    file_prefix = \"2ch_data\"\n",
    "    asyncio.run(collect_data(boards, file_prefix, max_threads_per_board=10000))"
   ]
  },
  {
   "cell_type": "code",
   "execution_count": null,
   "metadata": {},
   "outputs": [],
   "source": [
    "# Блок 7: Запуск всей программы \n",
    "if __name__ == \"__main__\":\n",
    "    boards = [\"b\", \"po\", \"soc\", \"pr\"]\n",
    "    file_prefix = \"2ch_data\"\n",
    "    await collect_data(boards, file_prefix, max_threads_per_board=10000)"
   ]
  }
 ],
 "metadata": {
  "kernelspec": {
   "display_name": "Python 3",
   "language": "python",
   "name": "python3"
  },
  "language_info": {
   "codemirror_mode": {
    "name": "ipython",
    "version": 3
   },
   "file_extension": ".py",
   "mimetype": "text/x-python",
   "name": "python",
   "nbconvert_exporter": "python",
   "pygments_lexer": "ipython3",
   "version": "3.13.0"
  }
 },
 "nbformat": 4,
 "nbformat_minor": 2
}
